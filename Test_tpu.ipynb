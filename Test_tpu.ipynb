{
 "cells": [
  {
   "cell_type": "code",
   "execution_count": null,
   "id": "23a74fb2",
   "metadata": {},
   "outputs": [],
   "source": [
    "# Install required libraries\n",
    "!pip install cloud-tpu-client torch-xla\n",
    "\n",
    "# Import necessary libraries\n",
    "import torch\n",
    "import torch_xla\n",
    "import torch_xla.core.xla_model as xm\n",
    "\n",
    "# Define a simple operation to test TPU\n",
    "def test_tpu():\n",
    "    # Acquires the default Cloud TPU core and moves the computation to it\n",
    "    device = xm.xla_device()\n",
    "\n",
    "    # Create tensors\n",
    "    tensor1 = torch.randn(3, 3, device=device)\n",
    "    tensor2 = torch.randn(3, 3, device=device)\n",
    "\n",
    "    # Perform a matrix multiplication\n",
    "    result = torch.mm(tensor1, tensor2)\n",
    "\n",
    "    # Print the result\n",
    "    print('Result of matrix multiplication on TPU:')\n",
    "    print(result)\n",
    "\n",
    "# Run the test function\n",
    "test_tpu()\n"
   ]
  }
 ],
 "metadata": {
  "kernelspec": {
   "display_name": "Python 3 (ipykernel)",
   "language": "python",
   "name": "python3"
  },
  "language_info": {
   "codemirror_mode": {
    "name": "ipython",
    "version": 3
   },
   "file_extension": ".py",
   "mimetype": "text/x-python",
   "name": "python",
   "nbconvert_exporter": "python",
   "pygments_lexer": "ipython3",
   "version": "3.9.16"
  }
 },
 "nbformat": 4,
 "nbformat_minor": 5
}
